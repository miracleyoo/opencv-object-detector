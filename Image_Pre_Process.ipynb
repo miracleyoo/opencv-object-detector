{
 "cells": [
  {
   "cell_type": "code",
   "execution_count": 5,
   "metadata": {
    "collapsed": true
   },
   "outputs": [],
   "source": [
    "from skimage.feature import hog\n",
    "from skimage.io import imread\n",
    "import os"
   ]
  },
  {
   "cell_type": "code",
   "execution_count": 6,
   "metadata": {
    "collapsed": true
   },
   "outputs": [],
   "source": [
    "test_img_path = './data/dataset/CarData/pos/pos-0.pgm'\n",
    "img = imread(test_img_path, as_gray=True)"
   ]
  },
  {
   "cell_type": "code",
   "execution_count": 16,
   "metadata": {
    "collapsed": true
   },
   "outputs": [],
   "source": [
    "orientations = 9\n",
    "pixels_per_cell = (8,8)\n",
    "cells_per_block = (2,2)\n",
    "fd = hog(img,block_norm='L2')"
   ]
  },
  {
   "cell_type": "code",
   "execution_count": 18,
   "metadata": {
    "collapsed": true
   },
   "outputs": [],
   "source": [
    "from matplotlib.pyplot import imshow\n",
    "from PIL import Image\n",
    "import numpy as np\n",
    "import os\n",
    "%matplotlib inline\n",
    "# im = Image.open(\"hopper.ppm\")"
   ]
  },
  {
   "cell_type": "code",
   "execution_count": 35,
   "metadata": {
    "collapsed": true
   },
   "outputs": [],
   "source": [
    "pos_pre = './data/dataset/CarData/pos/'\n",
    "poss=[pos_pre+x for x in os.listdir(pos_pre) if not x.startswith('.')]\n",
    "neg_pre = './data/dataset/CarData/neg/'\n",
    "negs=[neg_pre+x for x in os.listdir(neg_pre) if not x.startswith('.')]"
   ]
  },
  {
   "cell_type": "code",
   "execution_count": 27,
   "metadata": {},
   "outputs": [],
   "source": [
    "poss[:10]\n",
    "img=Image.open(poss[0])\n",
    "img=img.resize((64,64))\n",
    "# img.resize()"
   ]
  },
  {
   "cell_type": "code",
   "execution_count": 28,
   "metadata": {},
   "outputs": [
    {
     "data": {
      "text/plain": [
       "<matplotlib.image.AxesImage at 0x111d8ac88>"
      ]
     },
     "execution_count": 28,
     "metadata": {},
     "output_type": "execute_result"
    },
    {
     "data": {
      "image/png": "[encoded data removed]",
      "text/plain": [
       "<Figure size 432x288 with 1 Axes>"
      ]
     },
     "metadata": {},
     "output_type": "display_data"
    }
   ],
   "source": [
    "imshow(np.asarray(img))"
   ]
  },
  {
   "cell_type": "code",
   "execution_count": 53,
   "metadata": {},
   "outputs": [],
   "source": [
    "def resize_by_short(img, short_len=64):\n",
    "    \"\"\"按照短边进行所需比例缩放\"\"\"\n",
    "    (x, y) = img.size\n",
    "    if x>y:\n",
    "        y_s=short_len\n",
    "        x_s=int(x*y_s/y)\n",
    "        x_l=int(x_s/2)-int(short_len/2)\n",
    "        x_r=int(x_s/2)+int(short_len/2)\n",
    "        img = img.resize((x_s, y_s))\n",
    "        box = (x_l, 0, x_r, short_len)\n",
    "        img = img.crop(box)\n",
    "    else:\n",
    "        x_s=short_len\n",
    "        y_s=int(y*x_s/x)\n",
    "        y_l=int(y_s/2)-int(short_len/2)\n",
    "        y_r=int(y_s/2)+int(short_len/2)\n",
    "        img = img.resize((x_s, y_s))\n",
    "        box = (0, y_l, short_len, y_r)\n",
    "        img = img.crop(box)\n",
    "    return img"
   ]
  },
  {
   "cell_type": "code",
   "execution_count": 44,
   "metadata": {},
   "outputs": [
    {
     "data": {
      "text/plain": [
       "'63.jpg'"
      ]
     },
     "execution_count": 44,
     "metadata": {},
     "output_type": "execute_result"
    }
   ],
   "source": [
    "# os.mkdir('./data/dataset/CarData/pos_64')\n",
    "# os.mkdir('./data/dataset/CarData/neg_64')\n",
    "# os.path.split(poss[0])[1]\n",
    "57-32"
   ]
  },
  {
   "cell_type": "code",
   "execution_count": 48,
   "metadata": {},
   "outputs": [],
   "source": [
    "sizes_pos=[]\n",
    "for img_name in poss:\n",
    "    img = Image.open(img_name)\n",
    "    sizes_pos.append(img.size)\n",
    "    img=img.resize((64,64))\n",
    "    img.save('./data/dataset/CarData/pos_64/'+os.path.split(img_name)[1])"
   ]
  },
  {
   "cell_type": "code",
   "execution_count": 56,
   "metadata": {},
   "outputs": [],
   "source": [
    "sizes_neg=[]\n",
    "for img_name in negs:\n",
    "    img = Image.open(img_name)\n",
    "    sizes_neg.append(img.size)\n",
    "    img=resize_by_short(img)\n",
    "    img.save('./data/dataset/CarData/neg_64/'+os.path.split(img_name)[1])"
   ]
  },
  {
   "cell_type": "code",
   "execution_count": null,
   "metadata": {
    "collapsed": true
   },
   "outputs": [],
   "source": []
  }
 ],
 "metadata": {
  "kernelspec": {
   "display_name": "Python 3",
   "language": "python",
   "name": "python3"
  },
  "language_info": {
   "codemirror_mode": {
    "name": "ipython",
    "version": 3
   },
   "file_extension": ".py",
   "mimetype": "text/x-python",
   "name": "python",
   "nbconvert_exporter": "python",
   "pygments_lexer": "ipython3",
   "version": "3.6.1"
  }
 },
 "nbformat": 4,
 "nbformat_minor": 2
}
