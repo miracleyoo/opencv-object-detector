{
 "cells": [
  {
   "cell_type": "code",
   "execution_count": 1,
   "metadata": {
    "collapsed": true
   },
   "outputs": [],
   "source": [
    "from skimage.feature import hog\n",
    "from skimage.io import imread\n",
    "from matplotlib.pyplot import imshow\n",
    "from PIL import Image\n",
    "import numpy as np\n",
    "import os\n",
    "%matplotlib inline"
   ]
  },
  {
   "cell_type": "markdown",
   "metadata": {},
   "source": [
    "# Parameters and Configs"
   ]
  },
  {
   "cell_type": "code",
   "execution_count": 4,
   "metadata": {
    "collapsed": true
   },
   "outputs": [],
   "source": [
    "pos_pre = './source/images/pos/'\n",
    "neg_pre = './source/images/neg/'\n",
    "pos_aft = './source/images/pos/'\n",
    "neg_aft = './source/images/neg/'"
   ]
  },
  {
   "cell_type": "code",
   "execution_count": 5,
   "metadata": {},
   "outputs": [],
   "source": [
    "poss=[pos_pre+x for x in os.listdir(pos_pre) if not x.startswith('.')]\n",
    "negs=[neg_pre+x for x in os.listdir(neg_pre) if not x.startswith('.')]"
   ]
  },
  {
   "cell_type": "markdown",
   "metadata": {},
   "source": [
    "# Sample Images"
   ]
  },
  {
   "cell_type": "code",
   "execution_count": 6,
   "metadata": {},
   "outputs": [
    {
     "data": {
      "text/plain": [
       "<matplotlib.image.AxesImage at 0x1c2af3a5f8>"
      ]
     },
     "execution_count": 6,
     "metadata": {},
     "output_type": "execute_result"
    },
    {
     "data": {
      "image/png": "[encoded data removed]",
      "text/plain": [
       "<Figure size 432x288 with 1 Axes>"
      ]
     },
     "metadata": {},
     "output_type": "display_data"
    }
   ],
   "source": [
    "poss[:10]\n",
    "img=Image.open(poss[0])\n",
    "img=img.resize((64,64))\n",
    "imshow(np.asarray(img))"
   ]
  },
  {
   "cell_type": "code",
   "execution_count": 16,
   "metadata": {},
   "outputs": [
    {
     "data": {
      "text/plain": [
       "0"
      ]
     },
     "execution_count": 16,
     "metadata": {},
     "output_type": "execute_result"
    }
   ],
   "source": [
    "img."
   ]
  },
  {
   "cell_type": "markdown",
   "metadata": {},
   "source": [
    "# Processing"
   ]
  },
  {
   "cell_type": "code",
   "execution_count": 7,
   "metadata": {
    "collapsed": true
   },
   "outputs": [],
   "source": [
    "def resize_by_short(img, short_len=64):\n",
    "    \"\"\"按照短边进行所需比例缩放\"\"\"\n",
    "    (x, y) = img.size\n",
    "    if x>y:\n",
    "        y_s=short_len\n",
    "        x_s=int(x*y_s/y)\n",
    "        x_l=int(x_s/2)-int(short_len/2)\n",
    "        x_r=int(x_s/2)+int(short_len/2)\n",
    "        img = img.resize((x_s, y_s))\n",
    "        box = (x_l, 0, x_r, short_len)\n",
    "        img = img.crop(box)\n",
    "    else:\n",
    "        x_s=short_len\n",
    "        y_s=int(y*x_s/x)\n",
    "        y_l=int(y_s/2)-int(short_len/2)\n",
    "        y_r=int(y_s/2)+int(short_len/2)\n",
    "        img = img.resize((x_s, y_s))\n",
    "        box = (0, y_l, short_len, y_r)\n",
    "        img = img.crop(box)\n",
    "    return img"
   ]
  },
  {
   "cell_type": "code",
   "execution_count": 8,
   "metadata": {
    "collapsed": true
   },
   "outputs": [],
   "source": [
    "sizes_pos=[]\n",
    "for img_name in poss:\n",
    "    img = Image.open(img_name)\n",
    "    sizes_pos.append(img.size)\n",
    "    img=img.resize((64,64))\n",
    "    img.save(pos_aft + os.path.split(img_name)[1])"
   ]
  },
  {
   "cell_type": "code",
   "execution_count": 9,
   "metadata": {
    "collapsed": true
   },
   "outputs": [],
   "source": [
    "sizes_neg=[]\n",
    "for img_name in negs:\n",
    "    img = Image.open(img_name)\n",
    "    sizes_neg.append(img.size)\n",
    "    img=resize_by_short(img)\n",
    "    img.save(neg_aft + os.path.split(img_name)[1])"
   ]
  },
  {
   "cell_type": "code",
   "execution_count": null,
   "metadata": {
    "collapsed": true
   },
   "outputs": [],
   "source": []
  }
 ],
 "metadata": {
  "kernelspec": {
   "display_name": "Python 3",
   "language": "python",
   "name": "python3"
  },
  "language_info": {
   "codemirror_mode": {
    "name": "ipython",
    "version": 3
   },
   "file_extension": ".py",
   "mimetype": "text/x-python",
   "name": "python",
   "nbconvert_exporter": "python",
   "pygments_lexer": "ipython3",
   "version": "3.6.1"
  }
 },
 "nbformat": 4,
 "nbformat_minor": 2
}
